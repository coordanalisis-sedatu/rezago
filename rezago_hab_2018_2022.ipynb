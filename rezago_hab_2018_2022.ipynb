{
  "nbformat": 4,
  "nbformat_minor": 0,
  "metadata": {
    "colab": {
      "provenance": [],
      "include_colab_link": true
    },
    "kernelspec": {
      "name": "ir",
      "display_name": "R"
    },
    "language_info": {
      "name": "R"
    }
  },
  "cells": [
    {
      "cell_type": "markdown",
      "metadata": {
        "id": "view-in-github",
        "colab_type": "text"
      },
      "source": [
        "<a href=\"https://colab.research.google.com/github/coordanalisis-sedatu/rezago/blob/main/rezago_hab_2018_2022.ipynb\" target=\"_parent\"><img src=\"https://colab.research.google.com/assets/colab-badge.svg\" alt=\"Open In Colab\"/></a>"
      ]
    },
    {
      "cell_type": "markdown",
      "source": [
        "##Evolución del rezago habitacional 2018-2022\n"
      ],
      "metadata": {
        "id": "Wf72ADsKumo-"
      }
    },
    {
      "cell_type": "code",
      "execution_count": null,
      "metadata": {
        "id": "fuIS0OWvuUEy"
      },
      "outputs": [],
      "source": [
        "##Borrar datos del entorno\n",
        "rm(list=ls())"
      ]
    },
    {
      "cell_type": "code",
      "source": [
        "##Crear folders de almacenamiento\n",
        "dir.create(\"microdatos\", showWarnings = F)\n"
      ],
      "metadata": {
        "id": "lqOZGYzxu1Jr"
      },
      "execution_count": null,
      "outputs": []
    },
    {
      "cell_type": "code",
      "source": [
        "#Paquetería\n",
        "if(!require('pacman')) install.packages('pacman')\n",
        "pacman::p_load(tidyverse,srvyr,janitor)\n",
        "font_add_google(\"Poppins\", \"pop\")\n",
        "showtext_auto()\n"
      ],
      "metadata": {
        "colab": {
          "base_uri": "https://localhost:8080/"
        },
        "id": "zHdqgEDYu8s1",
        "outputId": "7bd0bade-21c1-4d76-bc5a-fc73d2a99f19"
      },
      "execution_count": null,
      "outputs": [
        {
          "output_type": "stream",
          "name": "stderr",
          "text": [
            "Installing package into ‘/usr/local/lib/R/site-library’\n",
            "(as ‘lib’ is unspecified)\n",
            "\n",
            "also installing the dependency ‘snakecase’\n",
            "\n",
            "\n",
            "\n",
            "janitor installed\n",
            "\n"
          ]
        }
      ]
    },
    {
      "cell_type": "code",
      "source": [
        "#Función para descargar y unzip\n",
        "download_and_unzip <- function(url, dir) {\n",
        "  # Crear directorio si no existe\n",
        "  if (!dir.exists(dir)) {\n",
        "    dir.create(dir, showWarnings = FALSE)\n",
        "  }\n",
        "\n",
        "  # Crear el archivo destino\n",
        "  destfile <- paste0(dir, \"/\", basename(url))\n",
        "\n",
        "  # Descarga\n",
        "  download.file(url, destfile)\n",
        "\n",
        "  # Unzip\n",
        "  unzip(destfile, exdir = dir)\n",
        "}\n"
      ],
      "metadata": {
        "id": "19D8G2FuvAAy"
      },
      "execution_count": null,
      "outputs": []
    },
    {
      "cell_type": "code",
      "source": [
        "# Utiliza la función para descargar datos 2022 y 2018 de ENIGH\n",
        "download_and_unzip(\"https://www.inegi.org.mx/contenidos/programas/enigh/nc/2022/microdatos/enigh2022_ns_viviendas_csv.zip\", \"microdatos\")\n",
        "download_and_unzip(\"https://www.inegi.org.mx/contenidos/programas/enigh/nc/2018/microdatos/enigh2018_ns_viviendas_csv.zip\", \"microdatos_18\")"
      ],
      "metadata": {
        "id": "AVuOU6nRvkOl"
      },
      "execution_count": null,
      "outputs": []
    },
    {
      "cell_type": "code",
      "source": [
        "# Carga y limpia el conjunto de datos de viviendas para el año 2022\n",
        "viviendas_22 <- read.csv(\"microdatos/viviendas.csv\") %>%\n",
        "  janitor::clean_names() %>%  #Poner las variables en minusculas y quitar las variables\n",
        "  mutate(\n",
        "    mat_pared = as.numeric(mat_pared),\n",
        "    mat_pisos = as.numeric(mat_pisos),\n",
        "    mat_techos = as.numeric(mat_techos),\n",
        "    rezago = case_when(\n",
        "      (tot_resid / num_cuarto) > 2.5 |   # Hacinamiento\n",
        "        mat_pared %in% c(1, 2, 3, 4, 5, 6) |\n",
        "        mat_pisos %in% c(1) |\n",
        "        mat_techos %in% c(1, 2, 3, 4, 6, 7, 9) |\n",
        "        excusado == 2 ~ \"En rezago\",\n",
        "      TRUE ~ \"Fuera de rezago\"\n",
        "    ),\n",
        "    vivi_autoprod = case_when(\n",
        "      (tenencia %in% c(3, 4) & tipo_adqui %in% c(2, 3)) ~ \"Sí\",\n",
        "      TRUE ~ \"No\"\n",
        "    ),\n",
        "    hacinamiento = tot_resid / num_cuarto,\n",
        "    hacinamiento = ifelse(hacinamiento > 2.5, 1, 0),\n",
        "    folioviv = as.character(folioviv),\n",
        "    # Clave de entidad federativa\n",
        "    cve_ent = case_when(\n",
        "      nchar(folioviv) == 10 ~ as.character(substr(folioviv, 1, 2)), #1 y 2 clave de Entidad Federativa\n",
        "      nchar(folioviv) == 9 ~ as.character(paste0(\"0\", substr(folioviv, 1, 1))),\n",
        "      TRUE ~ as.character(folioviv)\n",
        "    ),\n",
        "    # Variable para obtener el total de residentes que se encuentran en viviendas autoproducidas.\n",
        "      tot_resid_autoprod = case_when(\n",
        "      vivi_autoprod == \"Sí\" ~ tot_resid,\n",
        "      TRUE ~ 0\n",
        "    ),\n",
        "    # Variable para obtener el total de hogares que se encuentran en viviendas autoproducidas.\n",
        "    tot_hog_autoprod = case_when(\n",
        "      vivi_autoprod == \"Sí\" ~ tot_hog,\n",
        "      TRUE ~ 0\n",
        "    ),\n",
        "    # Nombre de cada entidad\n",
        "    nom_ent = case_when(\n",
        "      cve_ent == \"01\" ~ \"Aguascalientes\",\n",
        "      cve_ent == \"02\" ~ \"Baja California\",\n",
        "      cve_ent == \"03\" ~ \"Baja California Sur\",\n",
        "      cve_ent == \"04\" ~ \"Campeche\",\n",
        "      cve_ent == \"05\" ~ \"Coahuila de Zaragoza\",\n",
        "      cve_ent == \"06\" ~ \"Colima\",\n",
        "      cve_ent == \"07\" ~ \"Chiapas\",\n",
        "      cve_ent == \"08\" ~ \"Chihuahua\",\n",
        "      cve_ent == \"09\" ~ \"Ciudad de México\",\n",
        "      cve_ent == \"10\" ~ \"Durango\",\n",
        "      cve_ent == \"11\" ~ \"Guanajuato\",\n",
        "      cve_ent == \"12\" ~ \"Guerrero\",\n",
        "      cve_ent == \"13\" ~ \"Hidalgo\",\n",
        "      cve_ent == \"14\" ~ \"Jalisco\",\n",
        "      cve_ent == \"15\" ~ \"México\",\n",
        "      cve_ent == \"16\" ~ \"Michoacán de Ocampo\",\n",
        "      cve_ent == \"17\" ~ \"Morelos\",\n",
        "      cve_ent == \"18\" ~ \"Nayarit\",\n",
        "      cve_ent == \"19\" ~ \"Nuevo León\",\n",
        "      cve_ent == \"20\" ~ \"Oaxaca\",\n",
        "      cve_ent == \"21\" ~ \"Puebla\",\n",
        "      cve_ent == \"22\" ~ \"Querétaro\",\n",
        "      cve_ent == \"23\" ~ \"Quintana Roo\",\n",
        "      cve_ent == \"24\" ~ \"San Luis Potosí\",\n",
        "      cve_ent == \"25\" ~ \"Sinaloa\",\n",
        "      cve_ent == \"26\" ~ \"Sonora\",\n",
        "      cve_ent == \"27\" ~ \"Tabasco\",\n",
        "      cve_ent == \"28\" ~ \"Tamaulipas\",\n",
        "      cve_ent == \"29\" ~ \"Tlaxcala\",\n",
        "      cve_ent == \"30\" ~ \"Veracruz de Ignacio de la Llave\",\n",
        "      cve_ent == \"31\" ~ \"Yucatán\",\n",
        "      cve_ent == \"32\" ~ \"Zacatecas\",\n",
        "      TRUE ~ \"No identificado\"\n",
        "    )\n",
        "  )"
      ],
      "metadata": {
        "colab": {
          "base_uri": "https://localhost:8080/"
        },
        "id": "LIycXIG21H2o",
        "outputId": "f947e333-277f-4173-c4ad-acca265305e0"
      },
      "execution_count": null,
      "outputs": [
        {
          "output_type": "stream",
          "name": "stderr",
          "text": [
            "Warning message:\n",
            "“\u001b[1m\u001b[22mThere was 1 warning in `mutate()`.\n",
            "\u001b[1m\u001b[22m\u001b[36mℹ\u001b[39m In argument: `mat_pisos = as.numeric(mat_pisos)`.\n",
            "Caused by warning:\n",
            "\u001b[33m!\u001b[39m NAs introduced by coercion”\n"
          ]
        }
      ]
    },
    {
      "cell_type": "code",
      "source": [
        "# Carga y limpia el conjunto de datos de viviendas para el año 2018\n",
        "viviendas_18 <- read.csv(\"microdatos_18/viviendas.csv\") %>%\n",
        "  janitor::clean_names() %>%  #Poner las variables en minusculas y quitar las variables\n",
        "  mutate(\n",
        "    mat_pared = as.numeric(mat_pared),\n",
        "    mat_pisos = as.numeric(mat_pisos),\n",
        "    mat_techos = as.numeric(mat_techos),\n",
        "    rezago = case_when(\n",
        "      (tot_resid / num_cuarto) > 2.5 |   # Hacinamiento\n",
        "        mat_pared %in% c(1, 2, 3, 4, 5, 6) |\n",
        "        mat_pisos %in% c(1) |\n",
        "        mat_techos %in% c(1, 2, 3, 4, 6, 7, 9) |\n",
        "        excusado == 2 ~ \"En rezago\",\n",
        "      TRUE ~ \"Fuera de rezago\"\n",
        "    ),\n",
        "    vivi_autoprod = case_when(\n",
        "      (tenencia %in% c(3, 4) & tipo_adqui %in% c(2, 3)) ~ \"Sí\",\n",
        "      TRUE ~ \"No\"\n",
        "    ),\n",
        "    hacinamiento = tot_resid / num_cuarto,\n",
        "    hacinamiento = ifelse(hacinamiento > 2.5, 1, 0),\n",
        "    folioviv = as.character(folioviv),\n",
        "    # Clave de entidad federativa\n",
        "    cve_ent = case_when(\n",
        "      nchar(folioviv) == 10 ~ as.character(substr(folioviv, 1, 2)), #1 y 2 clave de Entidad Federativa\n",
        "      nchar(folioviv) == 9 ~ as.character(paste0(\"0\", substr(folioviv, 1, 1))),\n",
        "      TRUE ~ as.character(folioviv)\n",
        "    ),\n",
        "    # Variable para obtener el total de residentes que se encuentran en viviendas autoproducidas.\n",
        "      tot_resid_autoprod = case_when(\n",
        "      vivi_autoprod == \"Sí\" ~ tot_resid,\n",
        "      TRUE ~ 0\n",
        "    ),\n",
        "    # Variable para obtener el total de hogares que se encuentran en viviendas autoproducidas.\n",
        "    tot_hog_autoprod = case_when(\n",
        "      vivi_autoprod == \"Sí\" ~ tot_hog,\n",
        "      TRUE ~ 0\n",
        "    ),\n",
        "    # Nombre de cada entidad\n",
        "    nom_ent = case_when(\n",
        "      cve_ent == \"01\" ~ \"Aguascalientes\",\n",
        "      cve_ent == \"02\" ~ \"Baja California\",\n",
        "      cve_ent == \"03\" ~ \"Baja California Sur\",\n",
        "      cve_ent == \"04\" ~ \"Campeche\",\n",
        "      cve_ent == \"05\" ~ \"Coahuila de Zaragoza\",\n",
        "      cve_ent == \"06\" ~ \"Colima\",\n",
        "      cve_ent == \"07\" ~ \"Chiapas\",\n",
        "      cve_ent == \"08\" ~ \"Chihuahua\",\n",
        "      cve_ent == \"09\" ~ \"Ciudad de México\",\n",
        "      cve_ent == \"10\" ~ \"Durango\",\n",
        "      cve_ent == \"11\" ~ \"Guanajuato\",\n",
        "      cve_ent == \"12\" ~ \"Guerrero\",\n",
        "      cve_ent == \"13\" ~ \"Hidalgo\",\n",
        "      cve_ent == \"14\" ~ \"Jalisco\",\n",
        "      cve_ent == \"15\" ~ \"México\",\n",
        "      cve_ent == \"16\" ~ \"Michoacán de Ocampo\",\n",
        "      cve_ent == \"17\" ~ \"Morelos\",\n",
        "      cve_ent == \"18\" ~ \"Nayarit\",\n",
        "      cve_ent == \"19\" ~ \"Nuevo León\",\n",
        "      cve_ent == \"20\" ~ \"Oaxaca\",\n",
        "      cve_ent == \"21\" ~ \"Puebla\",\n",
        "      cve_ent == \"22\" ~ \"Querétaro\",\n",
        "      cve_ent == \"23\" ~ \"Quintana Roo\",\n",
        "      cve_ent == \"24\" ~ \"San Luis Potosí\",\n",
        "      cve_ent == \"25\" ~ \"Sinaloa\",\n",
        "      cve_ent == \"26\" ~ \"Sonora\",\n",
        "      cve_ent == \"27\" ~ \"Tabasco\",\n",
        "      cve_ent == \"28\" ~ \"Tamaulipas\",\n",
        "      cve_ent == \"29\" ~ \"Tlaxcala\",\n",
        "      cve_ent == \"30\" ~ \"Veracruz de Ignacio de la Llave\",\n",
        "      cve_ent == \"31\" ~ \"Yucatán\",\n",
        "      cve_ent == \"32\" ~ \"Zacatecas\",\n",
        "      TRUE ~ \"No identificado\"\n",
        "    )\n",
        "  )"
      ],
      "metadata": {
        "colab": {
          "base_uri": "https://localhost:8080/"
        },
        "id": "ezlEonqH10Wu",
        "outputId": "ab1acc75-79de-420f-b41e-9d2347955544"
      },
      "execution_count": null,
      "outputs": [
        {
          "output_type": "stream",
          "name": "stderr",
          "text": [
            "Warning message:\n",
            "“\u001b[1m\u001b[22mThere was 1 warning in `mutate()`.\n",
            "\u001b[1m\u001b[22m\u001b[36mℹ\u001b[39m In argument: `mat_pisos = as.numeric(mat_pisos)`.\n",
            "Caused by warning:\n",
            "\u001b[33m!\u001b[39m NAs introduced by coercion”\n"
          ]
        }
      ]
    },
    {
      "cell_type": "code",
      "source": [
        "#estructura general de la tabla\n",
        "str(viviendas_18)"
      ],
      "metadata": {
        "colab": {
          "base_uri": "https://localhost:8080/"
        },
        "id": "BKamuMbw2dbq",
        "outputId": "d5edd5e3-5f2f-4d42-c3e1-47b93362b0ed"
      },
      "execution_count": null,
      "outputs": [
        {
          "output_type": "stream",
          "name": "stdout",
          "text": [
            "'data.frame':\t73405 obs. of  71 variables:\n",
            " $ folioviv          : chr  \"100013601\" \"100013602\" \"100013603\" \"100013604\" ...\n",
            " $ tipo_viv          : chr  \"1\" \"1\" \"1\" \"1\" ...\n",
            " $ mat_pared         : num  8 8 8 8 8 8 8 8 8 8 ...\n",
            " $ mat_techos        : num  10 10 10 10 10 10 10 10 10 10 ...\n",
            " $ mat_pisos         : num  3 3 3 3 3 3 3 3 2 3 ...\n",
            " $ antiguedad        : int  42 40 50 45 40 5 25 30 1 30 ...\n",
            " $ antigua_ne        : int  NA NA NA NA NA NA NA NA NA NA ...\n",
            " $ cocina            : int  1 1 1 1 1 1 1 1 2 1 ...\n",
            " $ cocina_dor        : int  2 2 2 2 2 2 2 2 NA 2 ...\n",
            " $ cuart_dorm        : int  4 5 2 2 3 3 3 1 2 2 ...\n",
            " $ num_cuarto        : int  6 6 7 5 4 5 5 3 3 8 ...\n",
            " $ disp_agua         : int  1 1 1 1 1 1 1 1 1 1 ...\n",
            " $ dotac_agua        : int  1 1 1 1 4 1 2 1 2 1 ...\n",
            " $ excusado          : int  1 1 1 1 1 1 1 1 1 1 ...\n",
            " $ uso_compar        : int  2 2 2 2 2 2 2 2 2 2 ...\n",
            " $ sanit_agua        : int  1 1 1 1 1 1 1 1 1 1 ...\n",
            " $ biodigest         : int  2 2 2 2 2 2 2 2 2 2 ...\n",
            " $ bano_comp         : int  1 3 3 1 1 2 1 1 1 1 ...\n",
            " $ bano_excus        : int  0 0 0 0 0 1 1 0 0 1 ...\n",
            " $ bano_regad        : int  0 0 0 0 0 0 0 0 0 0 ...\n",
            " $ drenaje           : int  1 1 1 1 1 1 1 1 1 1 ...\n",
            " $ disp_elect        : int  1 1 1 1 1 1 1 1 1 1 ...\n",
            " $ focos_inca        : int  0 0 0 0 0 0 1 0 2 7 ...\n",
            " $ focos_ahor        : int  6 12 12 7 7 25 10 8 2 7 ...\n",
            " $ combustible       : chr  \"4\" \"4\" \"3\" \"4\" ...\n",
            " $ estufa_chi        : int  NA NA NA NA NA NA NA NA NA NA ...\n",
            " $ eli_basura        : int  3 3 3 3 3 3 3 3 3 3 ...\n",
            " $ tenencia          : int  4 2 4 4 2 4 4 3 1 1 ...\n",
            " $ renta             : int  NA NA NA NA NA NA NA NA 1300 5000 ...\n",
            " $ estim_pago        : int  4000 8000 6000 4000 3500 6000 3000 5000 NA NA ...\n",
            " $ pago_viv          : int  NA NA NA NA NA NA NA 4000 NA NA ...\n",
            " $ pago_mesp         : int  NA NA NA NA NA NA NA 1 1 1 ...\n",
            " $ tipo_adqui        : int  1 NA 1 1 NA 1 2 1 NA NA ...\n",
            " $ viv_usada         : int  2 NA 1 2 NA 1 NA 1 NA NA ...\n",
            " $ tipo_finan        : chr  \"5\" \" \" \"2\" \"2\" ...\n",
            " $ num_dueno1        : int  1 NA 1 1 NA 1 1 1 NA NA ...\n",
            " $ hog_dueno1        : int  1 NA 1 1 NA 1 1 1 NA NA ...\n",
            " $ num_dueno2        : int  NA NA NA NA NA NA NA NA NA NA ...\n",
            " $ hog_dueno2        : int  NA NA NA NA NA NA NA NA NA NA ...\n",
            " $ escrituras        : int  1 NA 1 1 NA 1 1 1 NA NA ...\n",
            " $ lavadero          : int  1 1 1 1 1 1 1 1 1 1 ...\n",
            " $ fregadero         : int  1 1 1 1 1 1 1 1 2 1 ...\n",
            " $ regadera          : int  1 1 1 1 1 1 1 1 1 1 ...\n",
            " $ tinaco_azo        : int  1 1 1 1 1 1 1 1 1 1 ...\n",
            " $ cisterna          : int  1 1 1 1 1 1 1 1 2 1 ...\n",
            " $ pileta            : int  2 2 2 2 1 2 1 1 2 2 ...\n",
            " $ calent_sol        : int  1 2 2 1 2 1 2 1 2 2 ...\n",
            " $ calent_gas        : int  1 1 1 1 1 2 1 1 2 1 ...\n",
            " $ medidor_luz       : int  1 1 1 1 1 1 1 1 1 1 ...\n",
            " $ bomba_agua        : int  1 1 1 1 1 1 1 1 2 1 ...\n",
            " $ tanque_gas        : int  2 2 1 2 2 2 1 2 2 2 ...\n",
            " $ aire_acond        : int  2 2 2 2 2 2 2 2 2 2 ...\n",
            " $ calefacc          : int  2 2 2 2 2 2 2 2 2 2 ...\n",
            " $ tot_resid         : int  3 5 2 2 4 4 1 2 3 4 ...\n",
            " $ tot_hom           : int  2 2 1 1 1 2 0 1 2 4 ...\n",
            " $ tot_muj           : int  1 3 1 1 3 2 1 1 1 0 ...\n",
            " $ tot_hog           : int  1 1 1 1 1 1 1 1 1 1 ...\n",
            " $ ubica_geo         : int  1001 1001 1001 1001 1001 1001 1001 1001 1001 1001 ...\n",
            " $ tam_loc           : int  1 1 1 1 1 1 1 1 1 1 ...\n",
            " $ est_socio         : int  3 3 3 3 3 3 3 3 3 3 ...\n",
            " $ est_dis           : int  2 2 2 2 2 2 2 2 2 2 ...\n",
            " $ upm               : int  1 1 1 1 1 2 2 2 2 3 ...\n",
            " $ factor            : int  179 179 179 179 179 193 193 193 193 190 ...\n",
            " $ procaptar         : int  0 0 0 0 0 0 0 0 0 0 ...\n",
            " $ rezago            : chr  \"Fuera de rezago\" \"Fuera de rezago\" \"Fuera de rezago\" \"Fuera de rezago\" ...\n",
            " $ vivi_autoprod     : chr  \"No\" \"No\" \"No\" \"No\" ...\n",
            " $ hacinamiento      : num  0 0 0 0 0 0 0 0 0 0 ...\n",
            " $ cve_ent           : chr  \"01\" \"01\" \"01\" \"01\" ...\n",
            " $ tot_resid_autoprod: num  0 0 0 0 0 0 1 0 0 0 ...\n",
            " $ tot_hog_autoprod  : num  0 0 0 0 0 0 1 0 0 0 ...\n",
            " $ nom_ent           : chr  \"Aguascalientes\" \"Aguascalientes\" \"Aguascalientes\" \"Aguascalientes\" ...\n"
          ]
        }
      ]
    },
    {
      "cell_type": "code",
      "source": [
        "#estructura general de la tabla\n",
        "str(viviendas_22)"
      ],
      "metadata": {
        "colab": {
          "base_uri": "https://localhost:8080/"
        },
        "id": "EGVxgZX_2juy",
        "outputId": "8efa9161-7206-4979-9f04-8268550315e7"
      },
      "execution_count": null,
      "outputs": [
        {
          "output_type": "stream",
          "name": "stdout",
          "text": [
            "'data.frame':\t88823 obs. of  71 variables:\n",
            " $ folioviv          : chr  \"100005002\" \"100005003\" \"100005004\" \"100012002\" ...\n",
            " $ tipo_viv          : chr  \"1\" \"1\" \"1\" \"1\" ...\n",
            " $ mat_pared         : num  8 8 8 8 8 8 8 8 8 8 ...\n",
            " $ mat_techos        : num  10 10 10 10 10 10 10 10 10 10 ...\n",
            " $ mat_pisos         : num  3 3 3 3 3 3 3 3 3 3 ...\n",
            " $ antiguedad        : int  30 15 25 50 45 25 48 36 35 1 ...\n",
            " $ antigua_ne        : int  NA NA NA NA NA NA NA NA NA NA ...\n",
            " $ cocina            : int  1 1 1 1 1 1 1 1 1 1 ...\n",
            " $ cocina_dor        : int  2 2 2 2 2 2 2 2 2 2 ...\n",
            " $ cuart_dorm        : int  2 3 3 4 3 2 5 4 3 3 ...\n",
            " $ num_cuarto        : int  4 5 7 6 4 4 6 7 4 6 ...\n",
            " $ disp_agua         : int  1 1 1 1 1 1 1 1 1 1 ...\n",
            " $ dotac_agua        : int  1 1 1 1 1 2 1 1 1 1 ...\n",
            " $ excusado          : int  1 1 1 1 1 1 1 1 1 1 ...\n",
            " $ uso_compar        : int  2 2 2 2 2 2 2 2 2 2 ...\n",
            " $ sanit_agua        : int  1 1 1 1 1 1 1 1 1 1 ...\n",
            " $ biodigest         : int  2 2 2 2 2 2 2 2 2 2 ...\n",
            " $ bano_comp         : int  1 3 2 2 2 1 2 3 2 3 ...\n",
            " $ bano_excus        : int  0 1 1 0 1 0 0 2 1 1 ...\n",
            " $ bano_regad        : int  0 0 0 0 0 0 0 0 0 0 ...\n",
            " $ drenaje           : int  1 1 1 1 1 1 1 1 1 1 ...\n",
            " $ disp_elect        : int  1 1 1 1 1 1 1 1 1 1 ...\n",
            " $ focos_inca        : int  0 0 0 9 0 0 4 0 0 0 ...\n",
            " $ focos_ahor        : int  8 9 10 8 17 10 4 7 5 16 ...\n",
            " $ combustible       : chr  \"3\" \"4\" \"3\" \"4\" ...\n",
            " $ estufa_chi        : int  NA NA NA NA NA NA NA NA NA NA ...\n",
            " $ eli_basura        : int  3 3 3 3 3 3 3 3 3 3 ...\n",
            " $ tenencia          : int  4 1 4 4 4 1 4 4 4 4 ...\n",
            " $ renta             : int  NA 8500 NA NA NA 4800 NA NA NA NA ...\n",
            " $ estim_pago        : int  4000 NA 10000 5000 3000 NA 5000 6000 8000 8000 ...\n",
            " $ pago_viv          : int  NA NA NA NA NA NA NA NA NA NA ...\n",
            " $ pago_mesp         : int  NA 1 NA NA NA 1 NA NA NA NA ...\n",
            " $ tipo_adqui        : int  1 NA 1 1 1 NA 3 2 2 1 ...\n",
            " $ viv_usada         : int  2 NA 2 2 2 NA NA NA NA 1 ...\n",
            " $ tipo_finan        : chr  \"1\" \" \" \"5\" \"1\" ...\n",
            " $ num_dueno1        : int  1 NA 1 1 2 NA 1 1 2 1 ...\n",
            " $ hog_dueno1        : int  1 NA 1 1 1 NA 1 1 1 1 ...\n",
            " $ num_dueno2        : int  NA NA NA NA NA NA NA NA NA NA ...\n",
            " $ hog_dueno2        : int  NA NA NA NA NA NA NA NA NA NA ...\n",
            " $ escrituras        : int  1 NA 1 1 1 NA 1 1 1 1 ...\n",
            " $ lavadero          : int  2 1 1 1 2 1 2 1 1 1 ...\n",
            " $ fregadero         : int  1 1 1 1 1 1 1 1 1 1 ...\n",
            " $ regadera          : int  1 1 1 1 1 1 1 1 1 1 ...\n",
            " $ tinaco_azo        : int  1 1 1 1 1 1 1 1 1 1 ...\n",
            " $ cisterna          : int  1 1 1 1 1 1 1 1 1 1 ...\n",
            " $ pileta            : int  2 2 1 2 2 1 2 2 2 2 ...\n",
            " $ calent_sol        : int  1 1 1 1 2 1 1 1 1 1 ...\n",
            " $ calent_gas        : int  1 1 1 1 1 1 1 1 2 2 ...\n",
            " $ medidor_luz       : int  1 1 1 1 1 1 1 1 1 1 ...\n",
            " $ bomba_agua        : int  1 1 1 1 1 1 1 1 1 1 ...\n",
            " $ tanque_gas        : int  2 1 2 2 2 1 1 1 1 2 ...\n",
            " $ aire_acond        : int  2 2 2 2 2 2 2 2 2 1 ...\n",
            " $ calefacc          : int  2 2 2 2 2 2 2 2 2 2 ...\n",
            " $ tot_resid         : int  3 2 3 5 4 4 1 3 2 5 ...\n",
            " $ tot_hom           : int  0 1 2 3 2 2 0 1 1 1 ...\n",
            " $ tot_muj           : int  3 1 1 2 2 2 1 2 1 4 ...\n",
            " $ tot_hog           : int  1 1 1 2 1 1 1 1 1 1 ...\n",
            " $ ubica_geo         : int  1001 1001 1001 1001 1001 1001 1001 1001 1001 1001 ...\n",
            " $ tam_loc           : int  1 1 1 1 1 1 1 1 1 1 ...\n",
            " $ est_socio         : int  4 4 4 3 3 3 4 4 4 4 ...\n",
            " $ est_dis           : int  3 3 3 2 2 2 3 3 3 3 ...\n",
            " $ upm               : int  1 1 1 2 2 2 3 3 3 3 ...\n",
            " $ factor            : int  206 206 206 167 167 167 212 212 212 212 ...\n",
            " $ procaptar         : int  0 0 0 0 0 0 0 0 0 0 ...\n",
            " $ rezago            : chr  \"Fuera de rezago\" \"Fuera de rezago\" \"Fuera de rezago\" \"Fuera de rezago\" ...\n",
            " $ vivi_autoprod     : chr  \"No\" \"No\" \"No\" \"No\" ...\n",
            " $ hacinamiento      : num  0 0 0 0 0 0 0 0 0 0 ...\n",
            " $ cve_ent           : chr  \"01\" \"01\" \"01\" \"01\" ...\n",
            " $ tot_resid_autoprod: num  0 0 0 0 0 0 1 3 2 0 ...\n",
            " $ tot_hog_autoprod  : num  0 0 0 0 0 0 1 1 1 0 ...\n",
            " $ nom_ent           : chr  \"Aguascalientes\" \"Aguascalientes\" \"Aguascalientes\" \"Aguascalientes\" ...\n"
          ]
        }
      ]
    },
    {
      "cell_type": "code",
      "source": [
        "#Definir diseño muestral para ambos años\n",
        "dm22<-viviendas_22%>%\n",
        "  #Diseño muestral\n",
        "  as_survey(weights=factor, strata=est_dis, ids=upm)\n",
        "\n",
        "dm18<-viviendas_18%>%\n",
        "  #Diseño muestral\n",
        "  as_survey(weights=factor, strata=est_dis, ids=upm)\n"
      ],
      "metadata": {
        "id": "F5elO9ex0ScH"
      },
      "execution_count": null,
      "outputs": []
    },
    {
      "cell_type": "code",
      "source": [
        "# ------------------------------------------------ Mostrar las viviendas que se encuentran en condición de rezago dentro del diseño muestral 2022\n",
        "dm22 %>%\n",
        "  group_by(rezago) %>%\n",
        "  summarise(viviendas = survey_total(vartype = \"cv\", level = 0.95)) %>%\n",
        "  janitor::adorn_totals()"
      ],
      "metadata": {
        "colab": {
          "base_uri": "https://localhost:8080/",
          "height": 192
        },
        "id": "ahgfHRJv2WOB",
        "outputId": "18079f7e-35f5-4095-8e54-84074750213b"
      },
      "execution_count": null,
      "outputs": [
        {
          "output_type": "display_data",
          "data": {
            "text/html": [
              "<table class=\"dataframe\">\n",
              "<caption>A tabyl: 3 × 3</caption>\n",
              "<thead>\n",
              "\t<tr><th scope=col>rezago</th><th scope=col>viviendas</th><th scope=col>viviendas_cv</th></tr>\n",
              "\t<tr><th scope=col>&lt;chr&gt;</th><th scope=col>&lt;dbl&gt;</th><th scope=col>&lt;dbl&gt;</th></tr>\n",
              "</thead>\n",
              "<tbody>\n",
              "\t<tr><td>En rezago      </td><td> 8977409</td><td>0.011080097</td></tr>\n",
              "\t<tr><td>Fuera de rezago</td><td>27991462</td><td>0.004748287</td></tr>\n",
              "\t<tr><td>Total          </td><td>36968871</td><td>0.015828384</td></tr>\n",
              "</tbody>\n",
              "</table>\n"
            ],
            "text/markdown": "\nA tabyl: 3 × 3\n\n| rezago &lt;chr&gt; | viviendas &lt;dbl&gt; | viviendas_cv &lt;dbl&gt; |\n|---|---|---|\n| En rezago       |  8977409 | 0.011080097 |\n| Fuera de rezago | 27991462 | 0.004748287 |\n| Total           | 36968871 | 0.015828384 |\n\n",
            "text/latex": "A tabyl: 3 × 3\n\\begin{tabular}{lll}\n rezago & viviendas & viviendas\\_cv\\\\\n <chr> & <dbl> & <dbl>\\\\\n\\hline\n\t En rezago       &  8977409 & 0.011080097\\\\\n\t Fuera de rezago & 27991462 & 0.004748287\\\\\n\t Total           & 36968871 & 0.015828384\\\\\n\\end{tabular}\n",
            "text/plain": [
              "  rezago          viviendas viviendas_cv\n",
              "1 En rezago        8977409  0.011080097 \n",
              "2 Fuera de rezago 27991462  0.004748287 \n",
              "3 Total           36968871  0.015828384 "
            ]
          },
          "metadata": {}
        }
      ]
    },
    {
      "cell_type": "code",
      "source": [
        "# ------------------------------------------------ Mostrar las viviendas que se encuentran en condición de rezago dentro del diseño muestral 2018\n",
        "dm18 %>%\n",
        "  group_by(rezago) %>%\n",
        "  summarise(viviendas = survey_total(vartype = \"cv\", level = 0.95)) %>%\n",
        "  janitor::adorn_totals()"
      ],
      "metadata": {
        "colab": {
          "base_uri": "https://localhost:8080/",
          "height": 192
        },
        "id": "83x0NwDU5TaO",
        "outputId": "1522830e-f19a-4c73-9280-af7309ef0dc7"
      },
      "execution_count": null,
      "outputs": [
        {
          "output_type": "display_data",
          "data": {
            "text/html": [
              "<table class=\"dataframe\">\n",
              "<caption>A tabyl: 3 × 3</caption>\n",
              "<thead>\n",
              "\t<tr><th scope=col>rezago</th><th scope=col>viviendas</th><th scope=col>viviendas_cv</th></tr>\n",
              "\t<tr><th scope=col>&lt;chr&gt;</th><th scope=col>&lt;dbl&gt;</th><th scope=col>&lt;dbl&gt;</th></tr>\n",
              "</thead>\n",
              "<tbody>\n",
              "\t<tr><td>En rezago      </td><td> 9238897</td><td>0.012202672</td></tr>\n",
              "\t<tr><td>Fuera de rezago</td><td>24575235</td><td>0.005636817</td></tr>\n",
              "\t<tr><td>Total          </td><td>33814132</td><td>0.017839490</td></tr>\n",
              "</tbody>\n",
              "</table>\n"
            ],
            "text/markdown": "\nA tabyl: 3 × 3\n\n| rezago &lt;chr&gt; | viviendas &lt;dbl&gt; | viviendas_cv &lt;dbl&gt; |\n|---|---|---|\n| En rezago       |  9238897 | 0.012202672 |\n| Fuera de rezago | 24575235 | 0.005636817 |\n| Total           | 33814132 | 0.017839490 |\n\n",
            "text/latex": "A tabyl: 3 × 3\n\\begin{tabular}{lll}\n rezago & viviendas & viviendas\\_cv\\\\\n <chr> & <dbl> & <dbl>\\\\\n\\hline\n\t En rezago       &  9238897 & 0.012202672\\\\\n\t Fuera de rezago & 24575235 & 0.005636817\\\\\n\t Total           & 33814132 & 0.017839490\\\\\n\\end{tabular}\n",
            "text/plain": [
              "  rezago          viviendas viviendas_cv\n",
              "1 En rezago        9238897  0.012202672 \n",
              "2 Fuera de rezago 24575235  0.005636817 \n",
              "3 Total           33814132  0.017839490 "
            ]
          },
          "metadata": {}
        }
      ]
    }
  ]
}